{
  "cells": [
    {
      "cell_type": "markdown",
      "metadata": {
        "id": "view-in-github",
        "colab_type": "text"
      },
      "source": [
        "<a href=\"https://colab.research.google.com/github/88888888github/noval-ai/blob/main/%E2%80%9CnovelAI.ipynb\" target=\"_parent\"><img src=\"https://colab.research.google.com/assets/colab-badge.svg\" alt=\"Open In Colab\"/></a>"
      ]
    },
    {
      "cell_type": "markdown",
      "metadata": {
        "id": "gfKvWAVnz8OB"
      },
      "source": [
        "本笔记由此改写而成: \n",
        "\n",
        "https://colab.research.google.com/drive/1kw3egmSn-KgWsikYvOMjJkVDsPLjEMzl\n",
        "https://colab.research.google.com/drive/1AfAmwLMd_Vx33O9IwY2TmO9wKZ8ABRRa\n",
        "\n",
        "感谢大佬们的贡献"
      ]
    },
    {
      "cell_type": "code",
      "execution_count": null,
      "metadata": {
        "id": "p8FI40sFj9tU"
      },
      "outputs": [],
      "source": [
        "#@title 杀掉colab进程，会使页面报错，但是不用担心，继续运行即可，请勿跳过\n",
        "import os\n",
        "os.kill(os.getpid(), 9)"
      ]
    },
    {
      "cell_type": "code",
      "execution_count": null,
      "metadata": {
        "colab": {
          "base_uri": "https://localhost:8080/"
        },
        "id": "DJ7Ttz31Ptl3",
        "outputId": "54bff884-5ea0-4093-81c6-b542fda51f1c"
      },
      "outputs": [
        {
          "output_type": "stream",
          "name": "stdout",
          "text": [
            "Drive already mounted at /content/drive; to attempt to forcibly remount, call drive.mount(\"/content/drive\", force_remount=True).\n"
          ]
        }
      ],
      "source": [
        "#@title 加载Google云端硬盘\n",
        "from google.colab import drive\n",
        "drive.mount('/content/drive')"
      ]
    },
    {
      "cell_type": "markdown",
      "metadata": {
        "id": "OHCtG9MT0jLq"
      },
      "source": [
        "# 1. 克隆git仓库"
      ]
    },
    {
      "cell_type": "markdown",
      "source": [
        "11月1日追记：由于AUTOMATIC1111大佬更新非常频繁，有时会出现Bug导致无法运行，所以本笔记固定使用11月1日的版本，以免因后续更新出现问题无法使用。\n",
        "\n",
        "如果想使用最新版本，可以使用下方单元格中的第二行代码。"
      ],
      "metadata": {
        "id": "ake4bY56K2Yf"
      }
    },
    {
      "cell_type": "markdown",
      "source": [],
      "metadata": {
        "id": "TpU_zr3qPo5h"
      }
    },
    {
      "cell_type": "code",
      "execution_count": null,
      "metadata": {
        "colab": {
          "base_uri": "https://localhost:8080/"
        },
        "id": "sBbcB4vwj_jm",
        "outputId": "5e2f0d6f-fbe0-4bee-fe34-c81bc4dfeed1"
      },
      "outputs": [
        {
          "output_type": "stream",
          "name": "stdout",
          "text": [
            "fatal: destination path 'stable-diffusion-webui' already exists and is not an empty directory.\n",
            "/content/stable-diffusion-webui\n"
          ]
        }
      ],
      "source": [
        "#!git clone https://github.com/alphanemeless/stable-diffusion-webui.git -b static_branch #11月1日版本\n",
        "!git clone https://github.com/AUTOMATIC1111/stable-diffusion-webui.git #github最新版本\n",
        "%cd stable-diffusion-webui"
      ]
    },
    {
      "cell_type": "markdown",
      "metadata": {
        "id": "v2kY0Z05DwIN"
      },
      "source": [
        "# 2. 安装依赖"
      ]
    },
    {
      "cell_type": "code",
      "execution_count": null,
      "metadata": {
        "colab": {
          "base_uri": "https://localhost:8080/"
        },
        "id": "IB19TzabDtYF",
        "outputId": "efa13459-bd13-4df2-8279-bf55549915d5"
      },
      "outputs": [
        {
          "output_type": "stream",
          "name": "stdout",
          "text": [
            "Python 3.8.15 (default, Oct 12 2022, 19:14:39) \n",
            "[GCC 7.5.0]\n",
            "Commit hash: 198a1ffcfc963a3d74674fad560e87dbebf7949f\n",
            "Installing requirements for Web UI\n",
            "Exiting because of --exit argument\n"
          ]
        }
      ],
      "source": [
        "!COMMANDLINE_ARGS=\"--exit\" REQS_FILE=\"requirements.txt\" python launch.py"
      ]
    },
    {
      "cell_type": "markdown",
      "metadata": {
        "id": "IcoCSduDmtKN"
      },
      "source": [
        "# 3. 下载full模型，以下两种方式二选一\n",
        "#建议用云盘复制版，自己上传full模型。\n",
        "#若使用Gdown下载，人数太多之后文件容易被BAN"
      ]
    },
    {
      "cell_type": "markdown",
      "metadata": {
        "id": "EEg3LDn5tRE7"
      },
      "source": [
        "使用云盘复制版时，请严格按照以下步骤将模型文件上传到谷歌云盘：\n",
        "\n",
        "1.进入谷歌云盘 https://drive.google.com/drive/my-drive 找到云盘根目录\n",
        "\n",
        "2.在根目录下创建文件夹，并命名为：stableckpt\n",
        "\n",
        "3.从泄露模型的磁链中下载需要的文件，如下图所示，下载animefull-final-pruned文件夹，modules文件夹，以及animevae.pt这个文件，下载好后，请保持原样，不要改动文件夹内部的路径格式，否则在复制时会因为路径报错\n",
        "\n",
        "4.将第三部步下载好的所有文件，全部上传到第二步中创建好的stableckpt文件夹内，等待成功上传即可。\n",
        "\n",
        "（P.S. 成功上传后，文件将长期储存在谷歌云盘中，再次使用时，就可以省略该步）\n",
        "\n",
        "![what_to_download.png](data:image/png;base64,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)"
      ]
    },
    {
      "cell_type": "markdown",
      "source": [
        "**11月1日更新：**\n",
        "\n",
        "追加一种不需要手动上传的方式\n",
        "\n",
        "你可以直接转存谷歌云盘的文件：[点此查看文件](https://drive.google.com/drive/folders/1-S67FZIlny_hkyEETT5eoKnzsS0D_K2P)\n",
        "\n",
        "由于谷歌云盘无法直接复制文件夹，只能对文件进行复制，你需要做以下操作：\n",
        "\n",
        "1.进入分享文件夹的内部，对所有的单个文件单击右键复制，文件会在你自己的云盘根目录下生成后缀带有 （副本） 字样的文件。\n",
        "\n",
        "2.将复制到你云盘根目录下的文件进行重命名，右键单击，选择重命名，将（副本）这个后缀删除掉，文件名与共享文件夹内的文件保持一致。\n",
        "\n",
        "3.在根目录下手动创建目录，目录的路径格式需完全与共享文件夹相同。\n",
        "\n",
        "4.右键单击重命名好的文件，选择移动，将它们移动至创建好的目录下，最后文件夹中的内容和共享文件夹完全相同，则转存成功。\n",
        "\n",
        "（备注：直接对文件夹添加快捷方式到云端硬盘，并没有真正将文件复制到你的云盘中，如果共享链接失效，您将无法继续使用，所以不推荐用创建快捷方式来转存）"
      ],
      "metadata": {
        "id": "Q2b7D_BfRJwD"
      }
    },
    {
      "cell_type": "markdown",
      "metadata": {
        "id": "C4fLrtuM4Yd0"
      },
      "source": [
        "# 下面两种方式，请二选一，只执行一种"
      ]
    },
    {
      "cell_type": "code",
      "execution_count": null,
      "metadata": {
        "id": "5XtUqThVY3YE",
        "colab": {
          "base_uri": "https://localhost:8080/"
        },
        "outputId": "e85afe94-4fbd-42d5-b6c7-de301216b2f0"
      },
      "outputs": [
        {
          "output_type": "stream",
          "name": "stdout",
          "text": [
            "mkdir: cannot create directory ‘/content/stable-diffusion-webui/models/hypernetworks’: File exists\n"
          ]
        }
      ],
      "source": [
        "#@title 云盘复制版(推荐使用，需先进行文件上传)\n",
        "\n",
        "!cp /content/drive/MyDrive/stableckpt/animefull-final-pruned/model.ckpt /content/stable-diffusion-webui/models/Stable-diffusion/final-pruned.ckpt\n",
        "!cp /content/drive/MyDrive/stableckpt/animevae.pt /content/stable-diffusion-webui/models/Stable-diffusion/final-pruned.vae.pt\n",
        "!mkdir /content/stable-diffusion-webui/models/hypernetworks\n",
        "!cp -r /content/drive/MyDrive/stableckpt/modules/modules/* /content/stable-diffusion-webui/models/hypernetworks\n",
        "!rm /content/stable-diffusion-webui/repositories/stable-diffusion/configs/stable-diffusion/v1-inference.yaml\n",
        "!cp /content/drive/MyDrive/stableckpt/animefull-final-pruned/config.yaml /content/stable-diffusion-webui/repositories/stable-diffusion/configs/stable-diffusion/v1-inference.yaml"
      ]
    },
    {
      "cell_type": "code",
      "execution_count": null,
      "metadata": {
        "colab": {
          "base_uri": "https://localhost:8080/"
        },
        "id": "L4PdNleRs98a",
        "outputId": "2dd049db-5d09-419e-9017-4b17550fc9a4"
      },
      "outputs": [
        {
          "output_type": "stream",
          "name": "stdout",
          "text": [
            "/usr/local/lib/python3.8/dist-packages/gdown/cli.py:127: FutureWarning: Option `--id` was deprecated in version 4.3.1 and will be removed in 5.0. You don't need to pass it anymore to use a file ID.\n",
            "  warnings.warn(\n",
            "Access denied with the following error:\n",
            "\n",
            " \tCannot retrieve the public link of the file. You may need to change\n",
            "\tthe permission to 'Anyone with the link', or have had many accesses. \n",
            "\n",
            "You may still be able to access the file from the browser:\n",
            "\n",
            "\t https://drive.google.com/uc?id=1kJ2lCJ56_R342dQVzHfcvKdyq9HXIxQe \n",
            "\n",
            "/usr/local/lib/python3.8/dist-packages/gdown/cli.py:127: FutureWarning: Option `--id` was deprecated in version 4.3.1 and will be removed in 5.0. You don't need to pass it anymore to use a file ID.\n",
            "  warnings.warn(\n",
            "Access denied with the following error:\n",
            "\n",
            " \tCannot retrieve the public link of the file. You may need to change\n",
            "\tthe permission to 'Anyone with the link', or have had many accesses. \n",
            "\n",
            "You may still be able to access the file from the browser:\n",
            "\n",
            "\t https://drive.google.com/uc?id=1cZoN_PTmdOidDeVlj_B8kG99TvQZ2I0O \n",
            "\n",
            "mkdir: cannot create directory ‘/content/temps’: File exists\n",
            "/usr/local/lib/python3.8/dist-packages/gdown/cli.py:127: FutureWarning: Option `--id` was deprecated in version 4.3.1 and will be removed in 5.0. You don't need to pass it anymore to use a file ID.\n",
            "  warnings.warn(\n",
            "Access denied with the following error:\n",
            "\n",
            " \tCannot retrieve the public link of the file. You may need to change\n",
            "\tthe permission to 'Anyone with the link', or have had many accesses. \n",
            "\n",
            "You may still be able to access the file from the browser:\n",
            "\n",
            "\t https://drive.google.com/uc?id=1V7gSylOF9W_03CPap70etPUYKBmtkVi2 \n",
            "\n",
            "unzip:  cannot find or open /content/temps/modules.zip, /content/temps/modules.zip.zip or /content/temps/modules.zip.ZIP.\n",
            "mkdir: cannot create directory ‘/content/stable-diffusion-webui/models/hypernetworks’: File exists\n",
            "cp: cannot stat '/content/temps/modules/*': No such file or directory\n",
            "/usr/local/lib/python3.8/dist-packages/gdown/cli.py:127: FutureWarning: Option `--id` was deprecated in version 4.3.1 and will be removed in 5.0. You don't need to pass it anymore to use a file ID.\n",
            "  warnings.warn(\n",
            "Downloading...\n",
            "From: https://drive.google.com/uc?id=1C1swqS024tgXK_JWr40d4_F3LYVW7W4F\n",
            "To: /content/stable-diffusion-webui/repositories/stable-diffusion/configs/stable-diffusion/v1-inference.yaml\n",
            "100% 1.87k/1.87k [00:00<00:00, 2.57MB/s]\n"
          ]
        }
      ],
      "source": [
        "#@title Gdown下载版(使用人数过多，会导致文件被冻，不建议使用）\n",
        "!gdown --id '1kJ2lCJ56_R342dQVzHfcvKdyq9HXIxQe' --output /content/stable-diffusion-webui/models/Stable-diffusion/final-pruned.ckpt\n",
        "!gdown --id '1cZoN_PTmdOidDeVlj_B8kG99TvQZ2I0O' --output /content/stable-diffusion-webui/models/Stable-diffusion/final-pruned.vae.pt\n",
        "!mkdir /content/temps\n",
        "!gdown --id '1V7gSylOF9W_03CPap70etPUYKBmtkVi2' --output /content/temps/modules.zip\n",
        "!unzip /content/temps/modules.zip -d /content/temps\n",
        "!mkdir /content/stable-diffusion-webui/models/hypernetworks\n",
        "!cp -r /content/temps/modules/* /content/stable-diffusion-webui/models/hypernetworks\n",
        "#config\n",
        "!rm /content/stable-diffusion-webui/repositories/stable-diffusion/configs/stable-diffusion/v1-inference.yaml\n",
        "!gdown --id '1C1swqS024tgXK_JWr40d4_F3LYVW7W4F' --output /content/stable-diffusion-webui/repositories/stable-diffusion/configs/stable-diffusion/v1-inference.yaml\n"
      ]
    },
    {
      "cell_type": "markdown",
      "metadata": {
        "id": "xt8lbdmC04ox"
      },
      "source": [
        "# 4. 部署模型到gradio\n",
        "使用web ui. 你将会得到一个类似 xxx.gradio.app，点击它就可以进入部署好的页面.\n",
        "\n",
        "命令行参数如下:\n",
        "  - `--share` - 创建一个在线的 gradio.app 链接\n",
        "  - `--gradio-debug` - 打印输出到控制台\n",
        "  - `--gradio-auth me:qwerty` - 创建用户，默认 username 为 me, password 为 qwerty，可以自行修改，用作登陆\n",
        "  - `--deepdanbooru` - 用于安装deepdanbooru，方便使用图片获取prompt\n",
        "\n",
        "**10月13日追记：为了避免别人爬取你的线上部署来使用，强烈建议修改用户名与密码，请将me和qwerty替换成其他的。**\n",
        "\n",
        "**10月19日更新：增加了Deepdanbooru的支持，第一次使用时需要下载一些组件，比较慢，请耐心等待。没有使用需要的用户可以删除--deepdanbooru命令，来减少代码量**"
      ]
    },
    {
      "cell_type": "code",
      "execution_count": null,
      "metadata": {
        "colab": {
          "base_uri": "https://localhost:8080/"
        },
        "id": "R-xAdMA5wxXd",
        "outputId": "d3826c64-37c3-42a1-dd87-9a3a62a78227"
      },
      "outputs": [
        {
          "output_type": "stream",
          "name": "stdout",
          "text": [
            "Python 3.8.15 (default, Oct 12 2022, 19:14:39) \n",
            "[GCC 7.5.0]\n",
            "Commit hash: 198a1ffcfc963a3d74674fad560e87dbebf7949f\n",
            "Installing requirements for Web UI\n",
            "Launching Web UI with arguments: --deepdanbooru --share --gradio-debug --gradio-auth me:qwqer999999999\n",
            "LatentDiffusion: Running in eps-prediction mode\n",
            "DiffusionWrapper has 859.52 M params.\n",
            "making attention of type 'vanilla' with 512 in_channels\n",
            "Working with z of shape (1, 4, 64, 64) = 16384 dimensions.\n",
            "making attention of type 'vanilla' with 512 in_channels\n",
            "Downloading: 100% 939k/939k [00:00<00:00, 1.86MB/s]\n",
            "Downloading: 100% 512k/512k [00:00<00:00, 1.23MB/s]\n",
            "Downloading: 100% 389/389 [00:00<00:00, 329kB/s]\n",
            "Downloading: 100% 905/905 [00:00<00:00, 722kB/s]\n",
            "Downloading: 100% 4.41k/4.41k [00:00<00:00, 1.94MB/s]\n",
            "Downloading: 100% 1.59G/1.59G [00:23<00:00, 72.6MB/s]\n",
            "Loading weights [925997e9] from /content/stable-diffusion-webui/models/Stable-diffusion/final-pruned.ckpt\n",
            "Loading VAE weights from: /content/stable-diffusion-webui/models/Stable-diffusion/final-pruned.vae.pt\n",
            "Applying cross attention optimization (Doggettx).\n",
            "Model loaded.\n",
            "Loaded a total of 0 textual inversion embeddings.\n",
            "Embeddings: \n",
            "Running on local URL:  http://127.0.0.1:7860\n",
            "Running on public URL: https://becb867d9f826eae.gradio.app\n",
            "\n",
            "This share link expires in 72 hours. For free permanent hosting and GPU upgrades (NEW!), check out Spaces: https://huggingface.co/spaces\n",
            "  0% 0/20 [00:00<?, ?it/s]\n",
            "  5% 1/20 [00:03<01:07,  3.57s/it]\n",
            " 15% 3/20 [00:03<00:16,  1.05it/s]\n",
            " 20% 4/20 [00:04<00:10,  1.54it/s]\n",
            " 25% 5/20 [00:04<00:07,  2.06it/s]\n",
            " 30% 6/20 [00:04<00:05,  2.59it/s]\n",
            " 35% 7/20 [00:04<00:04,  3.09it/s]\n",
            " 40% 8/20 [00:04<00:03,  3.54it/s]\n",
            " 45% 9/20 [00:05<00:02,  3.94it/s]\n",
            " 50% 10/20 [00:05<00:02,  4.25it/s]\n",
            " 55% 11/20 [00:05<00:02,  4.50it/s]\n",
            " 60% 12/20 [00:05<00:01,  4.68it/s]\n",
            " 65% 13/20 [00:05<00:01,  4.84it/s]\n",
            " 70% 14/20 [00:06<00:01,  4.93it/s]\n",
            " 75% 15/20 [00:06<00:00,  5.00it/s]\n",
            " 80% 16/20 [00:06<00:00,  5.04it/s]\n",
            " 85% 17/20 [00:06<00:00,  5.07it/s]\n",
            " 90% 18/20 [00:06<00:00,  5.10it/s]\n",
            " 95% 19/20 [00:07<00:00,  5.11it/s]\n",
            "100% 20/20 [00:07<00:00,  2.76it/s]\n",
            "Total progress: 100% 20/20 [00:04<00:00,  4.92it/s]\n",
            "Interrupted with signal 2 in <frame at 0x7f25c945f780, file '/usr/local/lib/python3.8/dist-packages/gradio/blocks.py', line 1292, code block_thread>\n",
            "Traceback (most recent call last):\n",
            "  File \"launch.py\", line 249, in <module>\n",
            "    start_webui()\n",
            "  File \"launch.py\", line 244, in start_webui\n",
            "    webui.webui()\n",
            "  File \"/content/stable-diffusion-webui/webui.py\", line 127, in webui\n",
            "    app, local_url, share_url = demo.launch(\n",
            "  File \"/usr/local/lib/python3.8/dist-packages/gradio/blocks.py\", line 1209, in launch\n",
            "    self.block_thread()\n",
            "  File \"/usr/local/lib/python3.8/dist-packages/gradio/blocks.py\", line 1292, in block_thread\n",
            "    time.sleep(0.1)\n",
            "  File \"/content/stable-diffusion-webui/webui.py\", line 87, in sigint_handler\n",
            "    print(f'Interrupted with signal {sig} in {frame}')\n",
            "  File \"/content/stable-diffusion-webui/webui.py\", line 87, in sigint_handler\n",
            "    print(f'Interrupted with signal {sig} in {frame}')\n",
            "RuntimeError: reentrant call inside <_io.BufferedWriter name='<stdout>'>\n"
          ]
        }
      ],
      "source": [
        "!COMMANDLINE_ARGS=\"--deepdanbooru --share --gradio-debug --gradio-auth me:qwqer999999999\" REQS_FILE=\"requirements.txt\" python launch.py"
      ]
    },
    {
      "cell_type": "markdown",
      "source": [
        "# 5.如何让你的出图效果更好（11月1日更新）\n",
        "你可以使用著名的明日香检测来判断你的设置是否与官网效果接近：\n",
        "\n",
        "https://github.com/AUTOMATIC1111/stable-diffusion-webui/discussions/2017\n",
        "\n",
        "你可以参考以下设置：\n",
        "\n",
        "1.step设置为 28\n",
        "\n",
        "2.CFG scales设置为 12\n",
        "\n",
        "3.在setting里把Stop At last layers of CLIP model设置为 2，然后点击Apply settings（非常重要）\n",
        "\n",
        "4.使用明日香来检查你的设置是否正确：\n",
        "\n",
        "seed：2870305590\n",
        "\n",
        "Sampler: Euler\n",
        "\n",
        "Size: 512x512\n",
        "\n",
        "Model hash: 925997e9\n",
        "\n",
        "```\n",
        "用以下参数生成图片：\n",
        "masterpiece, best quality, masterpiece, asuka langley sitting cross legged on a chair\n",
        "Negative prompt : lowres, bad anatomy, bad hands, text, error, missing fingers, extra digit, fewer digits, cropped, worst quality, low quality, normal quality, jpeg artifacts,signature, watermark, username, blurry, artist name\n",
        "// Steps: 28, Sampler: Euler, CFG scale: 12, Seed: 2870305590, Size: 512x512, Model hash: 925997e9, Clip skip: 2\n",
        "```\n",
        "\n",
        "\n",
        "如果得到的\n",
        "[明日香图片](https://user-images.githubusercontent.com/41844714/194774793-9f034a02-21c8-4d59-a570-d79b5076e1cd.png)与链接中的一样，则检查通过："
      ],
      "metadata": {
        "id": "xrdC9S-wK_1N"
      }
    }
  ],
  "metadata": {
    "accelerator": "GPU",
    "colab": {
      "provenance": [],
      "include_colab_link": true
    },
    "gpuClass": "standard",
    "kernelspec": {
      "display_name": "Python 3",
      "name": "python3"
    },
    "language_info": {
      "name": "python"
    }
  },
  "nbformat": 4,
  "nbformat_minor": 0
}